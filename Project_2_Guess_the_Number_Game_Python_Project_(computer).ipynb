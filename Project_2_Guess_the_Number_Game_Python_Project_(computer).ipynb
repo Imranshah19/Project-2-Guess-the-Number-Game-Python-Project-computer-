{
  "nbformat": 4,
  "nbformat_minor": 0,
  "metadata": {
    "colab": {
      "provenance": [],
      "authorship_tag": "ABX9TyNX6OEF3/bVznMjA65mfSUy",
      "include_colab_link": true
    },
    "kernelspec": {
      "name": "python3",
      "display_name": "Python 3"
    },
    "language_info": {
      "name": "python"
    }
  },
  "cells": [
    {
      "cell_type": "markdown",
      "metadata": {
        "id": "view-in-github",
        "colab_type": "text"
      },
      "source": [
        "<a href=\"https://colab.research.google.com/github/Imranshah19/Project-2-Guess-the-Number-Game-Python-Project-computer-/blob/main/Project_2_Guess_the_Number_Game_Python_Project_(computer).ipynb\" target=\"_parent\"><img src=\"https://colab.research.google.com/assets/colab-badge.svg\" alt=\"Open In Colab\"/></a>"
      ]
    },
    {
      "cell_type": "code",
      "execution_count": null,
      "metadata": {
        "id": "cFBPc4qinMaT",
        "colab": {
          "base_uri": "https://localhost:8080/"
        },
        "outputId": "900b3872-3c36-4727-d874-d0e3fbe2e52c"
      },
      "outputs": [
        {
          "metadata": {
            "tags": null
          },
          "name": "stdout",
          "output_type": "stream",
          "text": [
            "Welcome to Guess the Number Game!\n",
            "You have 5 attempts to guess the number between 1 and 20.\n"
          ]
        }
      ],
      "source": [
        "import random\n",
        "\n",
        "\n",
        "secret_number = random.randint(1, 20)\n",
        "attempts = 5\n",
        "\n",
        "print(\"Welcome to Guess the Number Game!\")\n",
        "print(f\"You have {attempts} attempts to guess the number between 1 and 20.\")\n",
        "\n",
        "\n",
        "while attempts > 0:\n",
        "    guess = int(input(\"Enter your guess: \"))\n",
        "\n",
        "    if guess == secret_number:\n",
        "        print(\"🎉 Correct! You guessed the number.\")\n",
        "        break\n",
        "    elif guess < secret_number:\n",
        "        print(\"Too low! Try again.\")\n",
        "    else:\n",
        "        print(\"Too high! Try again.\")\n",
        "\n",
        "    attempts -= 1\n",
        "    print(f\"You have {attempts} attempts left.\\n\")\n",
        "\n",
        "\n",
        "if attempts == 0:\n",
        "    print(f\"Game Over! The correct number was {secret_number}.\")\n"
      ]
    }
  ]
}